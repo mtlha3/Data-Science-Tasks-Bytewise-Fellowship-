{
 "cells": [
  {
   "cell_type": "code",
   "execution_count": 15,
   "id": "dd719914-9699-4d6b-b962-ecaf2c12fe67",
   "metadata": {},
   "outputs": [
    {
     "name": "stdin",
     "output_type": "stream",
     "text": [
      "Enter the positive integer 4\n"
     ]
    },
    {
     "name": "stdout",
     "output_type": "stream",
     "text": [
      "The factorial of  4 is  24\n"
     ]
    }
   ],
   "source": [
    "#TASK01\n",
    "num = int(input(\"Enter the positive integer\"))\n",
    "factorial = 1\n",
    "\n",
    "if num < 0:\n",
    "    print(\"Factorical is not exist for negative integers\")\n",
    "\n",
    "elif num == 0:\n",
    "    print(\"The factorial of 0 is 1\")\n",
    "\n",
    "else:\n",
    "    for i in range (1, num+1):\n",
    "        factorial = factorial * i\n",
    "    print(\"The factorial of \", num,  \"is \", factorial)"
   ]
  },
  {
   "cell_type": "code",
   "execution_count": 39,
   "id": "1d9f854a-16dd-4018-859d-90cd7d89cb36",
   "metadata": {},
   "outputs": [
    {
     "name": "stdout",
     "output_type": "stream",
     "text": [
      "True\n",
      "False\n"
     ]
    }
   ],
   "source": [
    "#TASK02\n",
    "def palindrome(string):\n",
    "    cleaned = ''\n",
    "    for char in string:\n",
    "        if char.isalnum(): \n",
    "            cleaned += char.lower()\n",
    "    start = 0\n",
    "    end = len(cleaned) - 1\n",
    "\n",
    "    while start < end:\n",
    "        if cleaned[start] != cleaned[end]:\n",
    "            return False\n",
    "        start += 1\n",
    "        end -= 1\n",
    "    return True\n",
    "print(palindrome(\"radar\"))\n",
    "print(palindrome(\"talha\"))\n"
   ]
  },
  {
   "cell_type": "code",
   "execution_count": 40,
   "id": "39ff71af-5477-456b-b89d-8ea24fe5236c",
   "metadata": {},
   "outputs": [
    {
     "name": "stdout",
     "output_type": "stream",
     "text": [
      "{'I': 1, 'am': 2, 'data': 4, 'science': 7, 'intern': 6, 'in': 2, 'Bytewise': 8, 'Limited': 7}\n"
     ]
    }
   ],
   "source": [
    "#TASK03\n",
    "def words_dictonary(sentence):\n",
    "    word_length_dict = {}\n",
    "    word = ''\n",
    "    length = 0\n",
    "    \n",
    "    for char in sentence:\n",
    "        if char.isalnum():\n",
    "            word += char\n",
    "            length += 1\n",
    "        else:\n",
    "            if length > 0:\n",
    "                word_length_dict[word] = length\n",
    "                word = ''\n",
    "                length = 0\n",
    "    \n",
    "    if length > 0:\n",
    "        word_length_dict[word] = length\n",
    "    return word_length_dict\n",
    "\n",
    "sentence = \"I am data science intern in Bytewise Limited\"\n",
    "print(words_dictonary(sentence))\n"
   ]
  },
  {
   "cell_type": "code",
   "execution_count": null,
   "id": "13d06656-e779-4a85-8859-c5fc3607cde0",
   "metadata": {},
   "outputs": [],
   "source": []
  }
 ],
 "metadata": {
  "kernelspec": {
   "display_name": "Python 3 (ipykernel)",
   "language": "python",
   "name": "python3"
  },
  "language_info": {
   "codemirror_mode": {
    "name": "ipython",
    "version": 3
   },
   "file_extension": ".py",
   "mimetype": "text/x-python",
   "name": "python",
   "nbconvert_exporter": "python",
   "pygments_lexer": "ipython3",
   "version": "3.12.4"
  }
 },
 "nbformat": 4,
 "nbformat_minor": 5
}
