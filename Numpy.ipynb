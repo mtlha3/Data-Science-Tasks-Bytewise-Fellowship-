{
 "cells": [
  {
   "cell_type": "markdown",
   "id": "af60b85b-e2f4-4856-a246-e530dce3e93d",
   "metadata": {},
   "source": [
    "# NUMPY ASSIGNMENT 03"
   ]
  },
  {
   "cell_type": "code",
   "execution_count": 1,
   "id": "e1dec2b3-c93e-4eac-8aaf-18cede4ce72c",
   "metadata": {},
   "outputs": [],
   "source": [
    "import numpy as np"
   ]
  },
  {
   "cell_type": "markdown",
   "id": "e3393f39-8066-4d7b-816f-ab7f8be52bd8",
   "metadata": {},
   "source": [
    "# TASK 1\n",
    "--------------------------CREATING RANDOM ARRAY OF 10 INTEGERS BETWEEN 0 - 100--------------------------"
   ]
  },
  {
   "cell_type": "code",
   "execution_count": 2,
   "id": "24183709-0669-48b8-9496-a7d81363e4c9",
   "metadata": {},
   "outputs": [
    {
     "data": {
      "text/plain": [
       "array([ 7, 42, 41, 29, 34, 24, 18, 72, 12, 43])"
      ]
     },
     "execution_count": 2,
     "metadata": {},
     "output_type": "execute_result"
    }
   ],
   "source": [
    "ran_arr = np.random.randint(1, 100, size=(10))\n",
    "ran_arr"
   ]
  },
  {
   "cell_type": "markdown",
   "id": "0338bed5-d36c-48bd-96fb-16950a2ec65c",
   "metadata": {},
   "source": [
    "--------------------------RESHAPE 1D ARRAY INTO 2D ARRAY--------------------------"
   ]
  },
  {
   "cell_type": "code",
   "execution_count": 3,
   "id": "8442dc02-a93b-4490-a722-c4d86d5fb658",
   "metadata": {},
   "outputs": [
    {
     "data": {
      "text/plain": [
       "array([[ 7, 42, 41, 29, 34],\n",
       "       [24, 18, 72, 12, 43]])"
      ]
     },
     "execution_count": 3,
     "metadata": {},
     "output_type": "execute_result"
    }
   ],
   "source": [
    "ran_arr.reshape(2,5)"
   ]
  },
  {
   "cell_type": "markdown",
   "id": "a4d2a4e9-80ed-463c-b784-2dca33435427",
   "metadata": {},
   "source": [
    "# TASK 2\n",
    "--------------------------ELEMENT WISE MATHEMATICAL OPERATIONS--------------------------"
   ]
  },
  {
   "cell_type": "code",
   "execution_count": 4,
   "id": "b1ca1ad3-1e53-4954-9f6c-20d14e2e4893",
   "metadata": {},
   "outputs": [
    {
     "data": {
      "text/plain": [
       "(array([3, 3, 8, 1, 9]), array([17, 18, 12, 18, 17]))"
      ]
     },
     "execution_count": 4,
     "metadata": {},
     "output_type": "execute_result"
    }
   ],
   "source": [
    "arr1 = np.random.randint(1,10,size=(5))\n",
    "arr2 = np.random.randint(11,20 ,size=(5))\n",
    "arr1, arr2"
   ]
  },
  {
   "cell_type": "code",
   "execution_count": 5,
   "id": "e8fb0fca-ebf7-4276-821b-78659beab854",
   "metadata": {},
   "outputs": [
    {
     "data": {
      "text/plain": [
       "(array([20, 21, 20, 19, 26]),\n",
       " array([-14, -15,  -4, -17,  -8]),\n",
       " array([ 51,  54,  96,  18, 153]),\n",
       " array([0.17647059, 0.16666667, 0.66666667, 0.05555556, 0.52941176]))"
      ]
     },
     "execution_count": 5,
     "metadata": {},
     "output_type": "execute_result"
    }
   ],
   "source": [
    "add = np.add(arr1 , arr2)\n",
    "sub = np.subtract(arr1 , arr2)\n",
    "mul = np.multiply(arr1 , arr2)\n",
    "div = np.divide(arr1 , arr2)\n",
    "add, sub, mul, div"
   ]
  },
  {
   "cell_type": "markdown",
   "id": "c33a5671-2877-427e-921d-a66e5a904236",
   "metadata": {},
   "source": [
    "\n",
    "--------------------------MEAN, MEDIAN, STANDARD DEVIATION & VARIANCE OF NUMPY ARRAY--------------------------"
   ]
  },
  {
   "cell_type": "code",
   "execution_count": 6,
   "id": "99a1ee69-0fd1-46f7-ac4c-81addc9a1fa8",
   "metadata": {},
   "outputs": [
    {
     "data": {
      "text/plain": [
       "(59.4, 56.0, 22.69, 514.64)"
      ]
     },
     "execution_count": 6,
     "metadata": {},
     "output_type": "execute_result"
    }
   ],
   "source": [
    "num_arr = [31,56,98,45,67]\n",
    "\n",
    "Mean = np.mean(num_arr)\n",
    "Median = np.median(num_arr)\n",
    "SD = np.std(num_arr)\n",
    "SD_rounded = round(SD, 2)\n",
    "Variance = np.var(num_arr)\n",
    "variance_rounded = round(Variance, 2)\n",
    "\n",
    "Mean , Median , SD_rounded , variance_rounded"
   ]
  },
  {
   "cell_type": "markdown",
   "id": "99f26b56-eda5-42c4-867d-707222468f55",
   "metadata": {},
   "source": [
    "# TASK 3\n",
    "--------------------SUBARRAY FROM 2D--------------------"
   ]
  },
  {
   "cell_type": "code",
   "execution_count": 7,
   "id": "bf13e53d-03ef-40f7-890a-a2b030acf533",
   "metadata": {},
   "outputs": [
    {
     "data": {
      "text/plain": [
       "array([[9, 9, 2, 1, 6],\n",
       "       [6, 2, 3, 9, 5],\n",
       "       [2, 8, 7, 3, 7],\n",
       "       [8, 9, 1, 3, 1],\n",
       "       [5, 5, 5, 9, 7]])"
      ]
     },
     "execution_count": 7,
     "metadata": {},
     "output_type": "execute_result"
    }
   ],
   "source": [
    "arr_2d = np.random.randint(1,10,size=(5,5))\n",
    "arr_2d"
   ]
  },
  {
   "cell_type": "code",
   "execution_count": 8,
   "id": "4bd56c0b-9631-4c4f-b65f-75ea082b90a4",
   "metadata": {},
   "outputs": [
    {
     "data": {
      "text/plain": [
       "array([[3, 9],\n",
       "       [7, 3],\n",
       "       [1, 3]])"
      ]
     },
     "execution_count": 8,
     "metadata": {},
     "output_type": "execute_result"
    }
   ],
   "source": [
    "extract_subarr = arr_2d[1:4, 2:4]\n",
    "extract_subarr"
   ]
  },
  {
   "cell_type": "markdown",
   "id": "3b802e9c-edc7-4286-a4fc-84c61dc3b29f",
   "metadata": {},
   "source": [
    "--------------------SPECIFIC ROW AND COLUMN--------------------"
   ]
  },
  {
   "cell_type": "code",
   "execution_count": 9,
   "id": "f32a612c-a613-4c29-8065-dd57fd22e994",
   "metadata": {},
   "outputs": [
    {
     "data": {
      "text/plain": [
       "array([[9, 9, 2, 1, 6]])"
      ]
     },
     "execution_count": 9,
     "metadata": {},
     "output_type": "execute_result"
    }
   ],
   "source": [
    "row = arr_2d[:1]\n",
    "row"
   ]
  },
  {
   "cell_type": "code",
   "execution_count": 10,
   "id": "d8db6f1d-8cb5-4fca-81c6-ddaf7d984b65",
   "metadata": {},
   "outputs": [
    {
     "data": {
      "text/plain": [
       "array([[9],\n",
       "       [2],\n",
       "       [8],\n",
       "       [9],\n",
       "       [5]])"
      ]
     },
     "execution_count": 10,
     "metadata": {},
     "output_type": "execute_result"
    }
   ],
   "source": [
    "col = arr_2d[:5, 1:2]\n",
    "col"
   ]
  },
  {
   "cell_type": "markdown",
   "id": "a6ad2905-7d8a-48a7-bc97-e5635b4752e1",
   "metadata": {},
   "source": [
    "# TASK 4\n",
    "------------------------------------ADVANCED OPERTAIONS----------------------------------"
   ]
  },
  {
   "cell_type": "code",
   "execution_count": 11,
   "id": "7f98119c-f632-464c-9751-aa1de067cbe8",
   "metadata": {},
   "outputs": [
    {
     "data": {
      "text/plain": [
       "array([[60, 78, 96],\n",
       "       [42, 55, 68],\n",
       "       [24, 35, 46]])"
      ]
     },
     "execution_count": 11,
     "metadata": {},
     "output_type": "execute_result"
    }
   ],
   "source": [
    "op2d = np.array([[3,6,9],[2,5,6],[7,1,3,]])\n",
    "op2d1 = np.array([[1,2,3],[2,3,4],[5,6,7]])\n",
    "mat = np.dot(op2d,op2d1)\n",
    "mat"
   ]
  },
  {
   "cell_type": "markdown",
   "id": "8fdd2148-3013-4999-8cd8-1043dd1e38b0",
   "metadata": {},
   "source": [
    "------------------------DOT PRODUCT--------------------------------------"
   ]
  },
  {
   "cell_type": "code",
   "execution_count": 12,
   "id": "de04c0f6-9030-4f92-a5dc-dfd056bda543",
   "metadata": {},
   "outputs": [
    {
     "data": {
      "text/plain": [
       "50"
      ]
     },
     "execution_count": 12,
     "metadata": {},
     "output_type": "execute_result"
    }
   ],
   "source": [
    "vector1 = np.array([9,8,7])\n",
    "vector2 = np.array([3,2,1])\n",
    "dot_product = np.dot(vector1, vector2)\n",
    "dot_product"
   ]
  },
  {
   "cell_type": "markdown",
   "id": "f67d47f4-67ad-473f-a93e-5a31f92435c3",
   "metadata": {},
   "source": [
    "---------------SYSTEM OF EQUATION-------------------------"
   ]
  },
  {
   "cell_type": "code",
   "execution_count": 13,
   "id": "2bf0612e-15b1-4e99-a476-c06e50ee011a",
   "metadata": {},
   "outputs": [
    {
     "data": {
      "text/plain": [
       "array([-5.275,  0.05 ,  4.725])"
      ]
     },
     "execution_count": 13,
     "metadata": {},
     "output_type": "execute_result"
    }
   ],
   "source": [
    "A = np.array([[1,2,3],[4,-5,6],[7,8,9]])\n",
    "b = np.array([9,7,6])\n",
    "\n",
    "solution = np.linalg.solve(A, b)\n",
    "solution"
   ]
  },
  {
   "cell_type": "markdown",
   "id": "f8205700-9c39-4067-a311-6f4f5efde42c",
   "metadata": {},
   "source": [
    "# TASK 5\n",
    "--------------------APPLYING FUNCTION--------------------------"
   ]
  },
  {
   "cell_type": "code",
   "execution_count": 14,
   "id": "4017d731-19af-43ca-a612-11b732a14102",
   "metadata": {},
   "outputs": [
    {
     "data": {
      "text/plain": [
       "array([['Odd', 'Even', 'Odd'],\n",
       "       ['Even', 'Odd', 'Even'],\n",
       "       ['Odd', 'Even', 'Odd']], dtype='<U4')"
      ]
     },
     "execution_count": 14,
     "metadata": {},
     "output_type": "execute_result"
    }
   ],
   "source": [
    "z = np.array([[1,2,3],[4,5,6],[7,8,9]])\n",
    "\n",
    "def condi(value):\n",
    "    if value%2 == 0:\n",
    "        value = \"Even\"\n",
    "    else: \n",
    "        value = \"Odd\"\n",
    "    return value\n",
    "\n",
    "vectorize_function = np.vectorize(condi)\n",
    "result = vectorize_function(z)\n",
    "result"
   ]
  },
  {
   "cell_type": "markdown",
   "id": "bdc518b1-9952-4793-a9af-92648b4106e2",
   "metadata": {},
   "source": [
    "--------------COMPUTATION ON ARRAY-----------------------"
   ]
  },
  {
   "cell_type": "code",
   "execution_count": 15,
   "id": "b94c35cb-444f-4f34-89c1-ba486c70999c",
   "metadata": {},
   "outputs": [
    {
     "data": {
      "text/plain": [
       "(array([3, 4, 5, 6, 7]),\n",
       " array([0, 1, 2, 3, 4]),\n",
       " array([ 3,  6,  9, 12, 15]),\n",
       " array([0.5, 1. , 1.5, 2. , 2.5]),\n",
       " array([ 9, 12, 15, 18, 21]))"
      ]
     },
     "execution_count": 15,
     "metadata": {},
     "output_type": "execute_result"
    }
   ],
   "source": [
    "array = np.array([1, 2, 3, 4, 5])\n",
    "\n",
    "def computation(array):\n",
    "    result_add = array + 2\n",
    "    result_sub = array - 1\n",
    "    result_mul = array * 3 \n",
    "    result_div = array / 2\n",
    "    result_combined = (array + 2) * 3\n",
    "\n",
    "    return result_add, result_sub, result_mul, result_div, result_combined\n",
    "\n",
    "\n",
    "vector = np.vectorize(computation)\n",
    "results = vector(array)\n",
    "results\n"
   ]
  }
 ],
 "metadata": {
  "kernelspec": {
   "display_name": "Python 3 (ipykernel)",
   "language": "python",
   "name": "python3"
  },
  "language_info": {
   "codemirror_mode": {
    "name": "ipython",
    "version": 3
   },
   "file_extension": ".py",
   "mimetype": "text/x-python",
   "name": "python",
   "nbconvert_exporter": "python",
   "pygments_lexer": "ipython3",
   "version": "3.12.4"
  }
 },
 "nbformat": 4,
 "nbformat_minor": 5
}
