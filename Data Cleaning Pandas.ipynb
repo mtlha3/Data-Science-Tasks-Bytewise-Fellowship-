{
 "cells": [
  {
   "cell_type": "code",
   "execution_count": 1,
   "id": "46fb3e3c-476a-4a74-89a9-cc1cdd5bdbf7",
   "metadata": {},
   "outputs": [],
   "source": [
    "import pandas as pd"
   ]
  },
  {
   "cell_type": "code",
   "execution_count": 2,
   "id": "ef655593-1b43-4737-a3bd-e549fb8a1ec4",
   "metadata": {},
   "outputs": [],
   "source": [
    "file_path = 'C:/Users/Asennus/Bytewise Fellowship/WorldBank.csv'\n",
    "df = pd.read_csv(file_path)"
   ]
  },
  {
   "cell_type": "code",
   "execution_count": 3,
   "id": "cb916544-90aa-41ce-8e88-a450dd652092",
   "metadata": {},
   "outputs": [],
   "source": [
    "df.drop_duplicates(inplace=True)"
   ]
  },
  {
   "cell_type": "code",
   "execution_count": 4,
   "id": "980970d8-a760-4b7a-8288-4ff0538808a1",
   "metadata": {},
   "outputs": [
    {
     "name": "stdout",
     "output_type": "stream",
     "text": [
      "Before filling the missing values\n",
      "Country Name                                                       0\n",
      "Country Code                                                       0\n",
      "Region                                                             0\n",
      "IncomeGroup                                                        0\n",
      "Year                                                               0\n",
      "Birth rate, crude (per 1,000 people)                            1009\n",
      "Death rate, crude (per 1,000 people)                            1033\n",
      "Electric power consumption (kWh per capita)                     6601\n",
      "GDP (USD)                                                       2871\n",
      "GDP per capita (USD)                                            2874\n",
      "Individuals using the Internet (% of population)                7385\n",
      "Infant mortality rate (per 1,000 live births)                   2465\n",
      "Life expectancy at birth (years)                                1273\n",
      "Population density (people per sq. km of land area)              604\n",
      "Unemployment (% of total labor force) (modeled ILO estimate)    7241\n",
      "dtype: int64\n"
     ]
    }
   ],
   "source": [
    "print(\"Before filling the missing values\")\n",
    "print(df.isnull().sum())"
   ]
  },
  {
   "cell_type": "code",
   "execution_count": 5,
   "id": "df2fdbb4-554f-433a-b094-8ff06eb5943f",
   "metadata": {},
   "outputs": [],
   "source": [
    "numeric_columns = df.select_dtypes(include='number')\n",
    "df[numeric_columns.columns] = numeric_columns.fillna(numeric_columns.mean())"
   ]
  },
  {
   "cell_type": "code",
   "execution_count": 6,
   "id": "e452c9b5-fb49-4a56-9b5c-32528afc390b",
   "metadata": {},
   "outputs": [
    {
     "name": "stdout",
     "output_type": "stream",
     "text": [
      "After filling the missing values\n",
      "Country Name                                                    0\n",
      "Country Code                                                    0\n",
      "Region                                                          0\n",
      "IncomeGroup                                                     0\n",
      "Year                                                            0\n",
      "Birth rate, crude (per 1,000 people)                            0\n",
      "Death rate, crude (per 1,000 people)                            0\n",
      "Electric power consumption (kWh per capita)                     0\n",
      "GDP (USD)                                                       0\n",
      "GDP per capita (USD)                                            0\n",
      "Individuals using the Internet (% of population)                0\n",
      "Infant mortality rate (per 1,000 live births)                   0\n",
      "Life expectancy at birth (years)                                0\n",
      "Population density (people per sq. km of land area)             0\n",
      "Unemployment (% of total labor force) (modeled ILO estimate)    0\n",
      "dtype: int64\n"
     ]
    }
   ],
   "source": [
    "print(\"After filling the missing values\")\n",
    "print(df.isnull().sum())"
   ]
  },
  {
   "cell_type": "code",
   "execution_count": 7,
   "id": "c4b581fc-90c4-4444-944a-3f9c6e61f80a",
   "metadata": {},
   "outputs": [
    {
     "name": "stdout",
     "output_type": "stream",
     "text": [
      "Cleaned DataFrame saved to: C:/Users/Asennus/Bytewise Fellowship/Cleaned_WorldBank.csv\n"
     ]
    }
   ],
   "source": [
    "cleaned_file_path = 'C:/Users/Asennus/Bytewise Fellowship/Cleaned_WorldBank.csv'\n",
    "df.to_csv(cleaned_file_path, index=False)\n",
    "print(\"Cleaned DataFrame saved to:\", cleaned_file_path)"
   ]
  },
  {
   "cell_type": "code",
   "execution_count": null,
   "id": "3b9c783f-448f-48a8-9765-89b39cc4c9e9",
   "metadata": {},
   "outputs": [],
   "source": []
  }
 ],
 "metadata": {
  "kernelspec": {
   "display_name": "Python 3 (ipykernel)",
   "language": "python",
   "name": "python3"
  },
  "language_info": {
   "codemirror_mode": {
    "name": "ipython",
    "version": 3
   },
   "file_extension": ".py",
   "mimetype": "text/x-python",
   "name": "python",
   "nbconvert_exporter": "python",
   "pygments_lexer": "ipython3",
   "version": "3.12.4"
  }
 },
 "nbformat": 4,
 "nbformat_minor": 5
}
